{
 "cells": [
  {
   "cell_type": "code",
   "execution_count": null,
   "id": "9536fe3a-876e-4c4c-b0ea-12f42ed78b7b",
   "metadata": {},
   "outputs": [],
   "source": [
    "Q.1- Expalin the importance of funcions.\n",
    "Ans-: Functions are crucial across many domains due to their ability to encapsulate, simplify, and solve complex problems. \n",
    "   \n",
    "    Here's a breakdown of their importance:\n",
    "    *-Mathematics:\n",
    "Relationship Modeling: Functions represent relationships between variables. For example, in physics, functions can describe how velocity depends on time.\n",
    "Problem Solving: They allow for the systematic solving of equations and inequalities, and are foundational in calculus for analyzing changes and growth.\n",
    "\n",
    "   *-Programming:\n",
    "Code Organization: Functions help break down complex tasks into simpler, reusable components, making code more organized and manageable.\n",
    "Reusability: Once a function is written, it can be used multiple times throughout a program, reducing redundancy and errors.\n",
    "Readability and Maintenance: Well-defined functions make code easier to read and maintain by encapsulating specific tasks or logic into distinct units.\n",
    " \n",
    "    -*Engineering and Sciences:\n",
    "Modeling and Simulation: Functions model real-world systems, allowing for predictions and simulations. For instance, in engineering, they can describe how a material responds under different conditions.\n",
    "Data Analysis: Functions are used to analyze and interpret data, perform transformations, and generate insights.\n",
    "     \n",
    "    -*General Problem Solving:\n",
    "Abstract Thinking: Functions provide a way to abstract and simplify complex problems, making it easier to understand and solve them.\n",
    "Modularity: By breaking problems into smaller functions, complex systems can be designed and tested in manageable parts."
   ]
  },
  {
   "cell_type": "code",
   "execution_count": 11,
   "id": "38809cd8-9f47-46dc-8c99-f70efac4deae",
   "metadata": {},
   "outputs": [
    {
     "name": "stdout",
     "output_type": "stream",
     "text": [
      "Hello, Alice! Welcome to the class.\n"
     ]
    }
   ],
   "source": [
    "# Q.2-: Write a basic function to greet students.\n",
    "# Ans-:\n",
    "def greet_student(name):\n",
    "    \"\"\"Prints a greeting message for the student.\"\"\"\n",
    "    print(f\"Hello, {name}! Welcome to the class.\")\n",
    "\n",
    "# Example usage\n",
    "greet_student(\"Alice\")"
   ]
  },
  {
   "cell_type": "code",
   "execution_count": null,
   "id": "1c0e69d7-c14d-416c-b987-47b2da75980e",
   "metadata": {},
   "outputs": [],
   "source": [
    "Q.3.- What is the difference between print and return statements?\n",
    "Ans:-  print is used  to show information to the user or for debugging purposes while\n",
    "     return is used to provide a value from a function and allow that value to be used in other parts of our program."
   ]
  },
  {
   "cell_type": "code",
   "execution_count": null,
   "id": "bc9ed61f-7140-4e67-998e-7ce50e242a62",
   "metadata": {},
   "outputs": [],
   "source": [
    "Q.4-: What are *args and **kwargs ?\n",
    "Ans:-  *args is used for a variable number of positional arguments, and collects them as a tuple while \n",
    "       **kwargs is used for a variable number of keyword arguments, and collects them as a dictionary."
   ]
  },
  {
   "cell_type": "code",
   "execution_count": null,
   "id": "401bd5b1-0606-49e7-926a-9c591dae8de5",
   "metadata": {},
   "outputs": [],
   "source": [
    "Q.5:-Explain the iterator function.\n",
    "Ans-:  An iterator is an object that allows you to traverse through a sequence of elements, one at a time, without exposing the underlying structure of the sequence. \n",
    "      In Python, an iterator is implemented using two main methods: __iter__() and __next__() (or next() in Python"
   ]
  },
  {
   "cell_type": "code",
   "execution_count": 1,
   "id": "09d117fc-caa5-475a-bf3d-589192528d85",
   "metadata": {},
   "outputs": [
    {
     "name": "stdout",
     "output_type": "stream",
     "text": [
      "1\n",
      "4\n",
      "9\n",
      "16\n",
      "25\n"
     ]
    }
   ],
   "source": [
    "#Q.6-: Write a code that generates the squares of numbers from 1 to n using a generator.\n",
    "#Ans-:\n",
    "def generate_squares(n):\n",
    "    \"\"\"Generator that yields squares of numbers from 1 to n.\"\"\"\n",
    "    for i in range(1, n + 1):\n",
    "        yield i * i\n",
    "\n",
    "# Example usage\n",
    "n = 5\n",
    "squares_generator = generate_squares(n)\n",
    "\n",
    "for square in squares_generator:\n",
    "    print(square)\n"
   ]
  },
  {
   "cell_type": "code",
   "execution_count": 2,
   "id": "367f5051-648c-4d37-a1c7-1eaa0cdaf183",
   "metadata": {},
   "outputs": [
    {
     "name": "stdout",
     "output_type": "stream",
     "text": [
      "1\n",
      "2\n",
      "3\n",
      "4\n",
      "5\n",
      "6\n",
      "7\n",
      "8\n",
      "9\n",
      "11\n",
      "22\n",
      "33\n",
      "44\n",
      "55\n",
      "66\n",
      "77\n",
      "88\n",
      "99\n"
     ]
    }
   ],
   "source": [
    "#Q.7:- Write a code that generates palindromic numbers up to n using a geneators.\n",
    "#Ans-:\n",
    "def is_palindrome(num):\n",
    "    \"\"\"Check if a number is a palindrome.\"\"\"\n",
    "    return str(num) == str(num)[::-1]\n",
    "\n",
    "def generate_palindromes(n):\n",
    "    \"\"\"Generator that yields palindromic numbers up to n.\"\"\"\n",
    "    for num in range(1, n + 1):\n",
    "        if is_palindrome(num):\n",
    "            yield num\n",
    "\n",
    "# Example usage\n",
    "n = 100\n",
    "palindromes_generator = generate_palindromes(n)\n",
    "\n",
    "for palindrome in palindromes_generator:\n",
    "    print(palindrome)\n"
   ]
  },
  {
   "cell_type": "code",
   "execution_count": 3,
   "id": "163ad5ae-d066-4eff-ab3f-b2bfef48f73c",
   "metadata": {},
   "outputs": [
    {
     "name": "stdout",
     "output_type": "stream",
     "text": [
      "2\n",
      "4\n",
      "6\n",
      "8\n",
      "10\n",
      "12\n",
      "14\n",
      "16\n",
      "18\n",
      "20\n"
     ]
    }
   ],
   "source": [
    "#Q.8:- Write a code that generates even numbers from 2 to n using a generator.\n",
    "#Ans-: \n",
    "def generate_even_numbers(n):\n",
    "    \"\"\"Generator that yields even numbers from 2 to n.\"\"\"\n",
    "    for num in range(2, n + 1, 2):\n",
    "        yield num\n",
    "\n",
    "# Example usage\n",
    "n = 20\n",
    "even_numbers_generator = generate_even_numbers(n)\n",
    "\n",
    "for even_number in even_numbers_generator:\n",
    "    print(even_number)\n"
   ]
  },
  {
   "cell_type": "code",
   "execution_count": 4,
   "id": "aa603f9e-b475-4691-9243-cb3833975de7",
   "metadata": {},
   "outputs": [
    {
     "name": "stdout",
     "output_type": "stream",
     "text": [
      "1\n",
      "2\n",
      "4\n",
      "8\n",
      "16\n",
      "32\n",
      "64\n"
     ]
    }
   ],
   "source": [
    "#Q.9-: Write a code that generates the squares of numbers from 1 to n using a generator.\n",
    "#Ans-: \n",
    "def generate_powers_of_two(n):\n",
    "    \"\"\"Generator that yields powers of two up to n.\"\"\"\n",
    "    power = 1\n",
    "    while power <= n:\n",
    "        yield power\n",
    "        power *= 2\n",
    "\n",
    "# Example usage\n",
    "n = 100\n",
    "powers_of_two_generator = generate_powers_of_two(n)\n",
    "\n",
    "for power_of_two in powers_of_two_generator:\n",
    "    print(power_of_two)\n"
   ]
  },
  {
   "cell_type": "code",
   "execution_count": 5,
   "id": "700c02a4-baff-4dd6-9755-2f83e05cbea9",
   "metadata": {},
   "outputs": [
    {
     "name": "stdout",
     "output_type": "stream",
     "text": [
      "2\n",
      "3\n",
      "5\n",
      "7\n",
      "11\n",
      "13\n",
      "17\n",
      "19\n",
      "23\n",
      "29\n",
      "31\n",
      "37\n",
      "41\n",
      "43\n",
      "47\n"
     ]
    }
   ],
   "source": [
    "#Q.10-: Write a code that generates prime numbers up to n using a generator.\n",
    "#Ans-:\n",
    "def is_prime(num):\n",
    "    \"\"\"Check if a number is a prime number.\"\"\"\n",
    "    if num <= 1:\n",
    "        return False\n",
    "    if num <= 3:\n",
    "        return True\n",
    "    if num % 2 == 0 or num % 3 == 0:\n",
    "        return False\n",
    "    i = 5\n",
    "    while i * i <= num:\n",
    "        if num % i == 0 or num % (i + 2) == 0:\n",
    "            return False\n",
    "        i += 6\n",
    "    return True\n",
    "\n",
    "def generate_primes(n):\n",
    "    \"\"\"Generator that yields prime numbers up to n.\"\"\"\n",
    "    for num in range(2, n + 1):\n",
    "        if is_prime(num):\n",
    "            yield num\n",
    "\n",
    "# Example usage\n",
    "n = 50\n",
    "primes_generator = generate_primes(n)\n",
    "\n",
    "for prime in primes_generator:\n",
    "    print(prime)\n"
   ]
  },
  {
   "cell_type": "code",
   "execution_count": 13,
   "id": "072bb3a9-ca4e-4e53-83ae-9a684d1fb4eb",
   "metadata": {},
   "outputs": [
    {
     "name": "stdout",
     "output_type": "stream",
     "text": [
      "The sum of 5 and 7 is 12\n"
     ]
    }
   ],
   "source": [
    "#Q.11:-Write a code that uses a lambda function to calculate the sum of two numbers.\n",
    "#Ans:-\n",
    "sum_lambda = lambda x, y: x + y\n",
    "\n",
    "# Example usage\n",
    "a = 5\n",
    "b = 7\n",
    "result = sum_lambda(a, b)\n",
    "\n",
    "print(f\"The sum of {a} and {b} is {result}\")\n"
   ]
  },
  {
   "cell_type": "code",
   "execution_count": 3,
   "id": "e5b5d260-9aba-4b6a-9d7a-f29f7a01291f",
   "metadata": {},
   "outputs": [
    {
     "name": "stdout",
     "output_type": "stream",
     "text": [
      "The square of 4 is 16\n"
     ]
    }
   ],
   "source": [
    "# Q.12:- Write a code that uses a lambda function to calculate the square of  a given numbers.\n",
    "#Ans:- \n",
    "square_lambda = lambda x: x * x\n",
    "\n",
    "# Example usage\n",
    "number = 4\n",
    "result = square_lambda(number)\n",
    "\n",
    "print(f\"The square of {number} is {result}\")\n"
   ]
  },
  {
   "cell_type": "code",
   "execution_count": 4,
   "id": "ad7bd8e9-4cd5-48d8-bfde-2ab7d769c9a9",
   "metadata": {},
   "outputs": [
    {
     "name": "stdout",
     "output_type": "stream",
     "text": [
      "7 is even: False\n",
      "7 is odd: True\n"
     ]
    }
   ],
   "source": [
    "# Q.13:- Write a code that uses a lambda function to check whether a given number is even or odd.\n",
    "#Ans:-\n",
    "is_even = lambda x: x % 2 == 0\n",
    "\n",
    "is_odd = lambda x: x % 2 != 0\n",
    "\n",
    "# Example usage\n",
    "number = 7\n",
    "even_result = is_even(number)\n",
    "odd_result = is_odd(number)\n",
    "\n",
    "print(f\"{number} is even: {even_result}\")\n",
    "print(f\"{number} is odd: {odd_result}\")\n"
   ]
  },
  {
   "cell_type": "code",
   "execution_count": 5,
   "id": "2729a9a6-6ad2-43cb-b650-0327eb0bf9ad",
   "metadata": {},
   "outputs": [
    {
     "name": "stdout",
     "output_type": "stream",
     "text": [
      "Hello, world!\n"
     ]
    }
   ],
   "source": [
    "# Q.15:-Write a code that uses a lambda function to concatenate two strings. \n",
    "# Ans:-\n",
    "concat_strings = lambda s1, s2: s1 + s2\n",
    "\n",
    "# Example usage\n",
    "string1 = \"Hello, \"\n",
    "string2 = \"world!\"\n",
    "result = concat_strings(string1, string2)\n",
    "\n",
    "print(result)\n"
   ]
  },
  {
   "cell_type": "code",
   "execution_count": 6,
   "id": "867a1df7-762a-4da6-a137-ef22d34dd4a1",
   "metadata": {},
   "outputs": [
    {
     "name": "stdout",
     "output_type": "stream",
     "text": [
      "The maximum of 10, 25, and 15 is 25\n"
     ]
    }
   ],
   "source": [
    "# Q.16:- Write a code that uses a lambda function to find the maximum of three given numbers.\n",
    "#Ans:-\n",
    "max_of_three = lambda a, b, c: max(a, b, c)\n",
    "\n",
    "# Example usage\n",
    "num1 = 10\n",
    "num2 = 25\n",
    "num3 = 15\n",
    "result = max_of_three(num1, num2, num3)\n",
    "\n",
    "print(f\"The maximum of {num1}, {num2}, and {num3} is {result}\")"
   ]
  },
  {
   "cell_type": "code",
   "execution_count": 7,
   "id": "6c58dced-b12b-4912-97cd-27adeb0217d4",
   "metadata": {},
   "outputs": [
    {
     "name": "stdout",
     "output_type": "stream",
     "text": [
      "The product of positive numbers in the list is 60\n"
     ]
    }
   ],
   "source": [
    "#Q.17:-Write a code that calculates the product of positive numbers from a given list.\n",
    "#Ans:-\n",
    "from functools import reduce\n",
    "import operator\n",
    "\n",
    "def product_of_positives(numbers):\n",
    "    \"\"\"Calculate the product of positive numbers in a given list.\"\"\"\n",
    "    # Filter out positive numbers and calculate their product\n",
    "    positive_numbers = [num for num in numbers if num > 0]\n",
    "    return reduce(operator.mul, positive_numbers, 1)\n",
    "\n",
    "# Example usage\n",
    "numbers = [3, -1, 4, 0, 5, -6]\n",
    "result = product_of_positives(numbers)\n",
    "\n",
    "print(f\"The product of positive numbers in the list is {result}\")\n"
   ]
  },
  {
   "cell_type": "code",
   "execution_count": 8,
   "id": "2131fd90-644f-4d31-9e08-8325894fc7fd",
   "metadata": {},
   "outputs": [
    {
     "name": "stdout",
     "output_type": "stream",
     "text": [
      "The squares of even numbers from the list are: [4, 16, 36, 64]\n"
     ]
    }
   ],
   "source": [
    "#Q.18:- Write a code that generates the squares of even numbers from a given list.\n",
    "#Ans:-\n",
    "def squares_of_even_numbers(numbers):\n",
    "    \"\"\"Generate the squares of even numbers from a given list.\"\"\"\n",
    "    return [num ** 2 for num in numbers if num % 2 == 0]\n",
    "\n",
    "# Example usage\n",
    "numbers = [1, 2, 3, 4, 5, 6, 7, 8]\n",
    "squares = squares_of_even_numbers(numbers)\n",
    "\n",
    "print(f\"The squares of even numbers from the list are: {squares}\")\n"
   ]
  },
  {
   "cell_type": "code",
   "execution_count": 9,
   "id": "9bbefe3c-8a0c-47bc-9e64-e04b5126b319",
   "metadata": {},
   "outputs": [
    {
     "name": "stdout",
     "output_type": "stream",
     "text": [
      "The list with odd numbers doubled is: [2, 2, 6, 4, 10, 6, 14, 8]\n"
     ]
    }
   ],
   "source": [
    "# Q.19:-Write a code that doubles the values of odd numbers from a given list.\n",
    "#Ans:-\n",
    "def double_odd_numbers(numbers):\n",
    "    \"\"\"Double the values of odd numbers from a given list.\"\"\"\n",
    "    return [num * 2 if num % 2 != 0 else num for num in numbers]\n",
    "\n",
    "# Example usage\n",
    "numbers = [1, 2, 3, 4, 5, 6, 7, 8]\n",
    "doubled_odds = double_odd_numbers(numbers)\n",
    "\n",
    "print(f\"The list with odd numbers doubled is: {doubled_odds}\")\n"
   ]
  },
  {
   "cell_type": "code",
   "execution_count": 10,
   "id": "5bba98c5-f866-4afd-a4ab-b3dd9097972c",
   "metadata": {},
   "outputs": [
    {
     "name": "stdout",
     "output_type": "stream",
     "text": [
      "The sum of the cubes of the numbers in the list is 100\n"
     ]
    }
   ],
   "source": [
    "#Q.20:-Write a code that calculates the sum of the cubes of numbers from a given list.\n",
    "#Ans:-\n",
    "def sum_of_cubes(numbers):\n",
    "    \"\"\"Calculate the sum of the cubes of numbers from a given list.\"\"\"\n",
    "    return sum(num ** 3 for num in numbers)\n",
    "\n",
    "# Example usage\n",
    "numbers = [1, 2, 3, 4]\n",
    "result = sum_of_cubes(numbers)\n",
    "\n",
    "print(f\"The sum of the cubes of the numbers in the list is {result}\")\n",
    "\n"
   ]
  },
  {
   "cell_type": "code",
   "execution_count": 11,
   "id": "12165972-e63c-40e5-8fa8-be407a3c1c16",
   "metadata": {},
   "outputs": [
    {
     "name": "stdout",
     "output_type": "stream",
     "text": [
      "Prime numbers in the list are: [23, 17, 29]\n"
     ]
    }
   ],
   "source": [
    "#Q.21:-Write a code that filters out prime numbers from a given list.\n",
    "#Ans:\n",
    "def is_prime(num):\n",
    "    \"\"\"Check if a number is a prime number.\"\"\"\n",
    "    if num <= 1:\n",
    "        return False\n",
    "    if num <= 3:\n",
    "        return True\n",
    "    if num % 2 == 0 or num % 3 == 0:\n",
    "        return False\n",
    "    i = 5\n",
    "    while i * i <= num:\n",
    "        if num % i == 0 or num % (i + 2) == 0:\n",
    "            return False\n",
    "        i += 6\n",
    "    return True\n",
    "\n",
    "def filter_primes(numbers):\n",
    "    \"\"\"Filter out prime numbers from a given list.\"\"\"\n",
    "    return [num for num in numbers if is_prime(num)]\n",
    "\n",
    "# Example usage\n",
    "numbers = [10, 15, 23, 42, 17, 29, 4]\n",
    "primes = filter_primes(numbers)\n",
    "\n",
    "print(f\"Prime numbers in the list are: {primes}\")\n"
   ]
  },
  {
   "cell_type": "code",
   "execution_count": 12,
   "id": "15bbd527-abca-4f13-a439-604bc89251ab",
   "metadata": {},
   "outputs": [
    {
     "name": "stdout",
     "output_type": "stream",
     "text": [
      "The sum of 8 and 12 is 20\n"
     ]
    }
   ],
   "source": [
    "#Q.22:- Write a code that uses a lambda function to calculate the sum of two numbers.\n",
    "#Ans:-\n",
    "sum_lambda = lambda x, y: x + y\n",
    "\n",
    "# Example usage\n",
    "num1 = 8\n",
    "num2 = 12\n",
    "result = sum_lambda(num1, num2)\n",
    "\n",
    "print(f\"The sum of {num1} and {num2} is {result}\")\n"
   ]
  },
  {
   "cell_type": "code",
   "execution_count": 14,
   "id": "2cae5277-e2c4-402a-947f-2bd6f3cba968",
   "metadata": {},
   "outputs": [
    {
     "name": "stdout",
     "output_type": "stream",
     "text": [
      "The square of 7 is 49\n"
     ]
    }
   ],
   "source": [
    "# Q.23:-Write a code that uses a lambda function to calculate the square of a given number.\n",
    "#Ans:-\n",
    "square_lambda = lambda x: x ** 2\n",
    "\n",
    "# Example usage\n",
    "number = 7\n",
    "result = square_lambda(number)\n",
    "\n",
    "print(f\"The square of {number} is {result}\")\n"
   ]
  },
  {
   "cell_type": "code",
   "execution_count": 15,
   "id": "a9f89db3-b784-4a84-b69e-4c72e5ffb005",
   "metadata": {},
   "outputs": [
    {
     "name": "stdout",
     "output_type": "stream",
     "text": [
      "8 is even: True\n",
      "8 is odd: False\n"
     ]
    }
   ],
   "source": [
    "# Q.24:- Write a code that uses a lambda function to check whether a given number is even or odd.\n",
    "#Ans:-\n",
    "is_even = lambda x: x % 2 == 0\n",
    "is_odd = lambda x: x % 2 != 0\n",
    "\n",
    "# Example usage\n",
    "number = 8\n",
    "even_result = is_even(number)\n",
    "odd_result = is_odd(number)\n",
    "\n",
    "print(f\"{number} is even: {even_result}\")\n",
    "print(f\"{number} is odd: {odd_result}\")\n"
   ]
  },
  {
   "cell_type": "code",
   "execution_count": 16,
   "id": "fec0918a-d605-460b-a445-ed609836173d",
   "metadata": {},
   "outputs": [
    {
     "name": "stdout",
     "output_type": "stream",
     "text": [
      "Hello, world!\n"
     ]
    }
   ],
   "source": [
    "#.Q.25:-Write a code that uses a lambda function to concatenate two strings. \n",
    "# Ans:-\n",
    "concat_strings = lambda s1, s2: s1 + s2\n",
    "\n",
    "# Example usage\n",
    "string1 = \"Hello, \"\n",
    "string2 = \"world!\"\n",
    "result = concat_strings(string1, string2)\n",
    "\n",
    "print(result)\n"
   ]
  },
  {
   "cell_type": "code",
   "execution_count": 17,
   "id": "d15ca5ff-bc30-4d44-9a77-68aabade281e",
   "metadata": {},
   "outputs": [
    {
     "name": "stdout",
     "output_type": "stream",
     "text": [
      "The maximum of 10, 25, and 15 is 25\n"
     ]
    }
   ],
   "source": [
    "# Q.26:- Write a code that uses a lambda function to find the maximum of three given numbers.\n",
    "#Ans:-\n",
    "max_of_three = lambda a, b, c: max(a, b, c)\n",
    "\n",
    "# Example usage\n",
    "num1 = 10\n",
    "num2 = 25\n",
    "num3 = 15\n",
    "result = max_of_three(num1, num2, num3)\n",
    "\n",
    "print(f\"The maximum of {num1}, {num2}, and {num3} is {result}\")"
   ]
  },
  {
   "cell_type": "code",
   "execution_count": null,
   "id": "4bd29b35-5f1c-4170-aea5-74e47eb745e2",
   "metadata": {},
   "outputs": [],
   "source": [
    "Q.27:-What is encapsulation in oop?\n",
    "Ans:-In Object-Oriented Programming (OOP), encapsulation is a fundamental concept that refers to the bundling of data (attributes) and methods (functions) that operate on the data into a single unit, typically a class.\n",
    "     Encapsulation helps to protect the internal state of an object from unintended interference and misuse by restricting direct access to some of its components."
   ]
  },
  {
   "cell_type": "code",
   "execution_count": null,
   "id": "9f8425f1-0c4b-483d-9bf3-da07dea525ec",
   "metadata": {},
   "outputs": [],
   "source": [
    "Q.28:-Explain the use of access modifiers in python classes.\n",
    "Ans:-In Python, access modifiers are used to control access to the attributes and methods of a class. \n",
    "     They help define the visibility and accessibility of class members (attributes and methods), allowing for better encapsulation and data protection.\n",
    "     -Public members are accessible from any part of the program, making them suitable for general use.\n",
    "     -Protected members are intended to be accessed only within the class and its subclasses. While they can be accessed from outside, it's not recommended.\n",
    "     -Private members are strictly confined to the class they are defined in. They help to encapsulate and hide the internal state and functionality of the class."
   ]
  },
  {
   "cell_type": "code",
   "execution_count": null,
   "id": "92bd77e5-70a3-4135-ae48-2225cba57030",
   "metadata": {},
   "outputs": [],
   "source": [
    "Q.29:- What is inheritence in oop?\n",
    "Ans:-In Object-Oriented Programming (OOP), inheritance is a fundamental concept that allows a new class to acquire the properties and behaviors (attributes and methods) of an existing class.\n",
    "     This existing class is referred to as the base class (or parent class), while the new class is called the derived class (or child class).\n",
    "     Inheritance promotes code reusability and establishes a natural hierarchy between classes."
   ]
  },
  {
   "cell_type": "code",
   "execution_count": null,
   "id": "c1001e5b-e584-4510-878a-f4949f840142",
   "metadata": {},
   "outputs": [],
   "source": [
    "Q.30:-Define polymorphism in oop.\n",
    "Ans:-In Object-Oriented Programming (OOP), polymorphism is a concept that allows objects of different classes to be treated as objects of a common superclass. \n",
    "    It enables a single interface or method to be used with different underlying forms (data types). \n",
    "    Polymorphism is derived from Greek words meaning \"many forms\" and is a key feature that helps in achieving flexibility and reusability in code."
   ]
  },
  {
   "cell_type": "code",
   "execution_count": null,
   "id": "aa394d6b-cf02-4154-9e32-8872b9a4fd39",
   "metadata": {},
   "outputs": [],
   "source": [
    "Q.31:-Explain method overriding in python.\n",
    "Ans:-Method overriding in Python is a feature of object-oriented programming that allows a subclass to provide a specific implementation of a method that is already defined in its superclass. \n",
    "     When a method in a subclass has the same name, same parameters, and same return type as a method in the superclass,\n",
    "     it overrides the method in the superclass."
   ]
  },
  {
   "cell_type": "code",
   "execution_count": 1,
   "id": "6ac35a6d-baf1-4c0b-a140-f51d13af22d4",
   "metadata": {},
   "outputs": [
    {
     "name": "stdout",
     "output_type": "stream",
     "text": [
      "Generic animal sound\n",
      "woof!\n"
     ]
    }
   ],
   "source": [
    "#Q.32:- Define a parent class Animal with a method make_sound that prints \"Generic animal sound\".create a child class Dog inheriting from Animal with a method make_sound that prints \"woof!\".\n",
    "#Ans:- Define the parent class Animal\n",
    "class Animal:\n",
    "    def make_sound(self):\n",
    "        print(\"Generic animal sound\")\n",
    "\n",
    "class Dog(Animal):\n",
    "    def make_sound(self):\n",
    "        print(\"woof!\")\n",
    "\n",
    "# Example usage\n",
    "if __name__ == \"__main__\":\n",
    "    animal = Animal()\n",
    "    animal.make_sound()  # Output: Generic animal sound\n",
    "\n",
    "    dog = Dog()\n",
    "    dog.make_sound()  # Output: woof!\n"
   ]
  },
  {
   "cell_type": "code",
   "execution_count": 2,
   "id": "5b90c88c-2087-43f9-9c3c-6c0824d3cd59",
   "metadata": {},
   "outputs": [
    {
     "name": "stdout",
     "output_type": "stream",
     "text": [
      "Generic animal sound\n",
      "Animal moves\n",
      "woof!\n",
      "Dog runs\n"
     ]
    }
   ],
   "source": [
    "# Q.33:-Define a method move in the Animal class that prints \"Animal moves\".Override the move method in the Dog class to print \"Dog runs\".\n",
    "#Ans:-\n",
    "class Animal:\n",
    "    def make_sound(self):\n",
    "        print(\"Generic animal sound\")\n",
    "    \n",
    "    def move(self):\n",
    "        print(\"Animal moves\")\n",
    "\n",
    "class Dog(Animal):\n",
    "    def make_sound(self):\n",
    "        print(\"woof!\")\n",
    "    \n",
    "    def move(self):\n",
    "        print(\"Dog runs\")\n",
    "\n",
    "# Example usage\n",
    "if __name__ == \"__main__\":\n",
    "    animal = Animal()\n",
    "    animal.make_sound()  # Output: Generic animal sound\n",
    "    animal.move()        # Output: Animal moves\n",
    "\n",
    "    dog = Dog()\n",
    "    dog.make_sound()    # Output: woof!\n",
    "    dog.move()          # Output: Dog runs\n"
   ]
  },
  {
   "cell_type": "code",
   "execution_count": 3,
   "id": "a2cff1be-0bb0-4684-8cbf-44ffd785a7cb",
   "metadata": {},
   "outputs": [
    {
     "name": "stdout",
     "output_type": "stream",
     "text": [
      "woof!\n",
      "Dog runs\n",
      "Giving birth to live young.\n"
     ]
    }
   ],
   "source": [
    "# Q.34 create a class Mammal with a method reproduce that prints \"Giving birth to live young.\"create a class DogMammal inheriting from both Dog and Mammal.\n",
    "#Ans:-\n",
    "class Animal:\n",
    "    def make_sound(self):\n",
    "        print(\"Generic animal sound\")\n",
    "    \n",
    "    def move(self):\n",
    "        print(\"Animal moves\")\n",
    "\n",
    "class Mammal:\n",
    "    def reproduce(self):\n",
    "        print(\"Giving birth to live young.\")\n",
    "class Dog(Animal):\n",
    "    def make_sound(self):\n",
    "        print(\"woof!\")\n",
    "    \n",
    "    def move(self):\n",
    "        print(\"Dog runs\")\n",
    "\n",
    "\n",
    "class DogMammal(Dog, Mammal):\n",
    "    pass\n",
    "\n",
    "# Example usage\n",
    "if __name__ == \"__main__\":\n",
    "    dog_mammal = DogMammal()\n",
    "    dog_mammal.make_sound()    # Output: woof!\n",
    "    dog_mammal.move()          # Output: Dog runs\n",
    "    dog_mammal.reproduce()     # Output: Giving birth to live young.\n"
   ]
  },
  {
   "cell_type": "code",
   "execution_count": 4,
   "id": "7ba1be72-f40b-48fa-8dc5-74edcdb7271d",
   "metadata": {},
   "outputs": [
    {
     "name": "stdout",
     "output_type": "stream",
     "text": [
      "Bark!\n",
      "Dog runs\n"
     ]
    }
   ],
   "source": [
    "# Q.35:-Create a class GermanShepherd inheriting from Dog and override the make_sound method to print \"Bark!\"\n",
    "# Ans:-\n",
    "class Animal:\n",
    "    def make_sound(self):\n",
    "        print(\"Generic animal sound\")\n",
    "    \n",
    "    def move(self):\n",
    "        print(\"Animal moves\")\n",
    "\n",
    "class Mammal:\n",
    "    def reproduce(self):\n",
    "        print(\"Giving birth to live young.\")\n",
    "\n",
    "class Dog(Animal):\n",
    "    def make_sound(self):\n",
    "        print(\"woof!\")\n",
    "    \n",
    "    def move(self):\n",
    "        print(\"Dog runs\")\n",
    "\n",
    "class GermanShepherd(Dog):\n",
    "    def make_sound(self):\n",
    "        print(\"Bark!\")\n",
    "\n",
    "# Example usage\n",
    "if __name__ == \"__main__\":\n",
    "    german_shepherd = GermanShepherd()\n",
    "    german_shepherd.make_sound()    # Output: Bark!\n",
    "    german_shepherd.move()          # Output: Dog runs\n"
   ]
  },
  {
   "cell_type": "code",
   "execution_count": 5,
   "id": "febce0c7-e0b3-4c36-a51b-527314ad4935",
   "metadata": {},
   "outputs": [
    {
     "name": "stdout",
     "output_type": "stream",
     "text": [
      "Animal species: Lion, habitat: Savannah\n",
      "Generic animal sound\n",
      "Animal moves\n",
      "Dog name: Buddy, breed: Golden Retriever, species: Dog, habitat: Domestic\n",
      "woof!\n",
      "Dog runs\n"
     ]
    }
   ],
   "source": [
    "# Q.36:- Define constructors in both the Animal and Dog classes with different initialization parameters.\n",
    "#Ans-:\n",
    "class Animal:\n",
    "    def __init__(self, species, habitat):\n",
    "        self.species = species\n",
    "        self.habitat = habitat\n",
    "    \n",
    "    def make_sound(self):\n",
    "        print(\"Generic animal sound\")\n",
    "    \n",
    "    def move(self):\n",
    "        print(\"Animal moves\")\n",
    "class Dog(Animal):\n",
    "    def __init__(self, name, breed, species='Dog', habitat='Domestic'):\n",
    "        super().__init__(species, habitat)\n",
    "        self.name = name\n",
    "        self.breed = breed\n",
    "    \n",
    "    def make_sound(self):\n",
    "        print(\"woof!\")\n",
    "    \n",
    "    def move(self):\n",
    "        print(\"Dog runs\")\n",
    "\n",
    "# Example usage\n",
    "if __name__ == \"__main__\":\n",
    "    animal = Animal(species=\"Lion\", habitat=\"Savannah\")\n",
    "    print(f\"Animal species: {animal.species}, habitat: {animal.habitat}\")\n",
    "    animal.make_sound()  # Output: Generic animal sound\n",
    "    animal.move()        # Output: Animal moves\n",
    "\n",
    "    dog = Dog(name=\"Buddy\", breed=\"Golden Retriever\")\n",
    "    print(f\"Dog name: {dog.name}, breed: {dog.breed}, species: {dog.species}, habitat: {dog.habitat}\")\n",
    "    dog.make_sound()    # Output: woof!\n",
    "    dog.move()          # Output: Dog runs\n"
   ]
  },
  {
   "cell_type": "code",
   "execution_count": null,
   "id": "e1275a47-aedb-4e87-b204-8998efa4abb7",
   "metadata": {},
   "outputs": [],
   "source": [
    "# Q.37-:what is abstraction in Python? How is it implemented?\n",
    "# Ans:-\n",
    "Abstraction in Python refers to the concept of hiding the complex implementation details of a system and exposing only the necessary parts to the user.\n",
    "It allows you to focus on what an object does rather than how it does it.\n",
    "\n",
    "In Python, abstraction is typically implemented using:\n",
    "\n",
    "Abstract Classes: These are classes that cannot be instantiated on their own and are designed to be subclassed.\n",
    "They can contain abstract methods, which are methods that are declared but contain no implementation.\n",
    "Subclasses must override these methods.\n",
    "\n",
    "Abstract Methods: Methods that are defined in an abstract class but have no implementation.\n",
    "Subclasses must provide an implementation for these methods."
   ]
  },
  {
   "cell_type": "code",
   "execution_count": null,
   "id": "5c583ed0-9099-4997-902f-f52f8967fcbc",
   "metadata": {},
   "outputs": [],
   "source": [
    "Q.38:- Explain the importance of abstraction in object-oriented programming.\n",
    "Ans:-\n",
    "Abstraction is a fundamental concept in object-oriented programming (OOP) that provides several important benefits, including:\n",
    "\n",
    "1. Simplifies Complex Systems\n",
    "   Hides Implementation Details: Abstraction allows you to hide the complex internal workings of objects and expose only the essential features.\n",
    "    This simplifies the interaction with the object and makes the system easier to use and understand.\n",
    "   Focuses on What: By focusing on what an object does rather than how it does it, abstraction makes it easier to grasp the functionality of the system without getting bogged down by the implementation specifics.\n",
    "\n",
    "2. Enhances Code Reusability\n",
    "   Reusable Components: Abstract classes and interfaces define common methods and properties that can be reused across different subclasses. \n",
    "    This promotes code reuse and reduces redundancy.\n",
    "   Standardized Interfaces: Different classes can adhere to the same interface, allowing them to be used interchangeably as long as they implement the required abstract methods. \n",
    "   This helps in creating more flexible and reusable code.\n",
    " \n",
    "3. Improves Maintainability\n",
    "   Modular Design: Abstraction encourages the design of modular components that can be developed, tested, and maintained independently. \n",
    "    Changes to the implementation of a class do not affect other parts of the system as long as the abstract interface remains consistent.\n",
    "    Clear Contracts: Abstract classes and methods define clear contracts for what a class should do, making it easier to understand and maintain the codebase.\n",
    "\n",
    "4. Facilitates Extensibility\n",
    "   Easy to Extend: With abstraction, new functionality can be added by creating new subclasses or implementing new abstract methods.\n",
    "   This makes it easier to extend the system without modifying existing code.\n",
    "   Encourages Extensible Designs: By defining abstract classes, you create a framework that can be extended with new concrete implementations, which supports scalability and adaptability.\n",
    "\n",
    "5. Encourages Separation of Concerns\n",
    "  Separation of Interface and Implementation: Abstraction separates the interface (what the object does) from the implementation (how it does it). \n",
    "    This separation allows developers to change the implementation without affecting how the object is used.\n",
    "   Decoupling: It reduces the dependency between different parts of the system, making it more modular and easier to manage."
   ]
  },
  {
   "cell_type": "code",
   "execution_count": null,
   "id": "cd3ea989-3f3a-4340-a7d2-036ebaa88cf5",
   "metadata": {},
   "outputs": [],
   "source": [
    "Q.39:- How are abstract methods different from regular methods in python?\n",
    "Ans:-\n",
    "     Abstract Method: area() in the Shape class. It provides a method signature but no implementation.\n",
    "    Subclasses like Rectangle must provide their own implementation of area().  while\n",
    "    Regular Method: describe() in the Shape class.\n",
    "    It has a complete implementation and can be used or overridden in subclasses."
   ]
  },
  {
   "cell_type": "code",
   "execution_count": null,
   "id": "ba92861d-8f1f-49a9-8303-57aa1a5e02c5",
   "metadata": {},
   "outputs": [],
   "source": [
    "Q.40:- How can you achieve abstraction using interfaces in python?\n",
    "Ans:-\n",
    " Steps to Achieve Abstraction Using Interfaces in Python\n",
    " 1. Define an Abstract Base Class (ABC):\n",
    " Use the abc module to define an abstract base class.\n",
    " This class will serve as the interface by declaring abstract methods.\n",
    "\n",
    " 2.Implement the Interface in Concrete Classes:\n",
    "Create concrete classes that inherit from the abstract base class and provide implementations for the abstract methods."
   ]
  },
  {
   "cell_type": "code",
   "execution_count": null,
   "id": "316bcb4a-ddae-4b03-bac4-737ce4699268",
   "metadata": {},
   "outputs": [],
   "source": [
    "Q.41:- can you provide an example of how abstraction can be utilized to create a common interface for a group of related classes in python?\n",
    "Ans:- Example: Vehicle Interface\n",
    "In this example, we'll create an abstract base class Vehicle that defines a common interface for various types of vehicles, such as Car and Bicycle.\n",
    "Each specific vehicle will implement the interface differently.\n",
    "Abstraction: The Vehicle class serves as an abstract base class that defines a common interface for all types of vehicles.\n",
    "Concrete Implementations: Car and Bicycle are concrete implementations of the Vehicle interface.\n",
    "                          They provide their specific behavior for the abstract methods defined in the interface.\n",
    "Polymorphism: The common interface allows you to handle different types of vehicles through the same set of method calls, regardless of their specific implementations. \n",
    "              This is demonstrated by the loop that iterates over a list of Vehicle objects."
   ]
  },
  {
   "cell_type": "code",
   "execution_count": null,
   "id": "cba002a1-d3c2-4b7a-aab1-8f3cfd689423",
   "metadata": {},
   "outputs": [],
   "source": [
    "Q.42:- How does Python achieve polymorphism through method overriding?\n",
    "Ans:- In Python, polymorphism is achieved through method overriding, which is a core concept in object-oriented programming.\n",
    "Here's how it works:\n",
    "\n",
    "Inheritance: Python allows you to create a new class that inherits from an existing class. \n",
    "            The new class is called a subclass, and the existing class is called a superclass (or base class).\n",
    "\n",
    "Method Overriding: In the subclass, you can define a method with the same name as one in the superclass. \n",
    "                   This is called method overriding. When you override a method, you provide a new implementation of that method in the subclass.\n",
    "\n",
    "Dynamic Method Resolution: Python uses dynamic typing and method resolution at runtime.\n",
    "                          When you call a method on an instance of a subclass, Python will use the subclass's implementation of the method, even if the method is called through a reference to the superclass."
   ]
  },
  {
   "cell_type": "code",
   "execution_count": 1,
   "id": "5c57ed88-0f6b-4c78-a07d-ef132110dab6",
   "metadata": {},
   "outputs": [
    {
     "name": "stdout",
     "output_type": "stream",
     "text": [
      "Drawing a shape\n",
      "Drawing a circle\n"
     ]
    }
   ],
   "source": [
    "#Q.43:- Define a base class with a method and a subclass that overrides the method.\n",
    "#Ans:-\n",
    "# Base clas\n",
    "class Shape:\n",
    "    def draw(self):\n",
    "        print(\"Drawing a shape\")\n",
    "\n",
    "# Subclass that overrides the method\n",
    "class Circle(Shape):\n",
    "    def draw(self):\n",
    "        print(\"Drawing a circle\")\n",
    "\n",
    "# Create instances of Shape and Circle\n",
    "shape = Shape()\n",
    "circle = Circle()\n",
    "\n",
    "# Call the draw method on both instances\n",
    "shape.draw()  # Output: Drawing a shape\n",
    "circle.draw() # Output: Drawing a circle\n"
   ]
  },
  {
   "cell_type": "code",
   "execution_count": 2,
   "id": "01b247d4-bc99-4533-968f-b8d64b00de81",
   "metadata": {},
   "outputs": [
    {
     "name": "stdout",
     "output_type": "stream",
     "text": [
      "Dog barks\n",
      "Cat meows\n",
      "Cow moos\n"
     ]
    }
   ],
   "source": [
    "#Q.44: -Define a base class and multiple subclasses that overriden methods.\n",
    "# Ans:-\n",
    "      # Base class\n",
    "class Animal:\n",
    "    def speak(self):\n",
    "        print(\"Animal makes a sound\")\n",
    "\n",
    "    # Subclass 1\n",
    "class Dog(Animal):\n",
    "    def speak(self):\n",
    "        print(\"Dog barks\")\n",
    "\n",
    "   # Subclass 2\n",
    "class Cat(Animal):\n",
    "    def speak(self):\n",
    "        print(\"Cat meows\")\n",
    "\n",
    "   # Subclass 3\n",
    "class Cow(Animal):\n",
    "    def speak(self):\n",
    "        print(\"Cow moos\")\n",
    "\n",
    "  # Create instances of each subclass\n",
    "dog = Dog()\n",
    "cat = Cat()\n",
    "cow = Cow()\n",
    "\n",
    "  # Call the speak method on each instance\n",
    "dog.speak()  # Output: Dog barks\n",
    "cat.speak()  # Output: Cat meows\n",
    "cow.speak()  # Output: Cow moos\n"
   ]
  },
  {
   "cell_type": "code",
   "execution_count": null,
   "id": "21040408-449e-4433-bf4a-07c84e707297",
   "metadata": {},
   "outputs": [],
   "source": [
    " Q.45:-How does polymorphism improves code readability and reusablility?\n",
    "    Ans:-\n",
    " Polymorphism enhances code readability and reusability in several ways:\n",
    "\n",
    " 1. Simplifies Code Management:\n",
    "Unified Interface: Polymorphism allows you to use a unified interface to interact with different types of objects. For instance, if multiple classes implement a common method, you can call that method on any instance without needing to know the specific class type. \n",
    "                   This reduces the complexity of your code.\n",
    "Consistent Method Names: With polymorphism, you can use the same method name across different classes.\n",
    "                          This makes the code easier to understand because you don’t need to remember multiple method names for similar operations.\n",
    "  2. Enhances Code Reusability:\n",
    "Flexible Code: Code that works with a base class can operate on any subclass.\n",
    "               This means you can write functions, methods, or algorithms that are agnostic to the specific types of objects they work with, as long as these objects follow the expected interface. \n",
    "               For example, a function that accepts a base class type can handle any subclass, promoting reusability.\n",
    "Extensible Design: New subclasses can be added with minimal changes to existing code. \n",
    "                   Since polymorphic code is designed to work with any subclass of the base class, you can extend your application by adding new subclasses without altering the core logic.\n",
    "  3. Improves Maintenance:\n",
    "Easier Updates: When you need to modify the behavior of a specific subclass, you can do so without affecting the rest of the code. \n",
    "                Changes to the overridden method in one subclass do not impact other subclasses or the base class.\n",
    "Decoupled Components: Polymorphism helps in decoupling code components, making it easier to manage and update different parts of the application independently.\n",
    "   4. Enhances Abstraction:\n",
    "Hides Implementation Details: Polymorphism allows you to interact with objects at a higher level of abstraction. \n",
    "                            You can work with a general interface or base class without needing to understand the details of each specific implementation.\n",
    "Encapsulates Variability: By defining common behavior in a base class and customizing it in subclasses, you can encapsulate the variability and focus on high-level design, improving code clarity."
   ]
  },
  {
   "cell_type": "code",
   "execution_count": null,
   "id": "c136e993-0b7c-4107-b0b5-0fb592b0c5a7",
   "metadata": {},
   "outputs": [],
   "source": [
    "Q.46:- Describe how Python supports polymorphism with duck typing.\n",
    "Ans:-\n",
    "Python supports polymorphism with a concept known as duck typing, which is closely related to the idea of \"if it looks like a duck and quacks like a duck, then it probably is a duck.\" \n",
    "This approach allows for more flexible and dynamic code, focusing on an object's behavior rather than its explicit type.\n",
    "\n",
    "Here’s how duck typing works in Python to support polymorphism:\n",
    "\n",
    "1. Focus on Behavior:\n",
    "Dynamic Typing: In Python, types are determined at runtime, and you don’t need to declare the type of an object explicitly. \n",
    "   If an object implements the methods or properties that are expected by the code interacting with it, then it’s treated as the appropriate type, regardless of its actual class.\n",
    "   Method Names and Signatures: As long as an object provides the necessary methods or follows the expected interface, it can be used interchangeably with other objects that have similar behaviors.\n",
    "   This means you don’t need to inherit from a common base class to be used polymorphically."
   ]
  },
  {
   "cell_type": "code",
   "execution_count": null,
   "id": "b49de0c2-e175-4c30-844a-20bc99f1b294",
   "metadata": {},
   "outputs": [],
   "source": [
    "Q.47:-How do you achieve encapsulation in Python ?\n",
    "Ans:-\n",
    "  Encapsulation in Python is a principle of object-oriented programming that involves bundling the data (attributes) and methods (functions) that operate on the data into a single unit, typically a class. \n",
    "    It also involves restricting direct access to some of the object's components to prevent accidental modification and to maintain control over how the data is accessed and modified.\n",
    "\n",
    "Here’s how encapsulation is achieved in Python:\n",
    "\n",
    "**1. Public, Protected, and Private Attributes and Methods\n",
    "Public Attributes and Methods:\n",
    "\n",
    "By default, all attributes and methods in Python are public. \n",
    "This means they can be accessed and modified from outside the class.\n",
    "\n",
    "Protected Attributes and Methods:\n",
    "\n",
    "To indicate that an attribute or method is intended to be protected and should not be accessed directly outside the class, you use a single underscore prefix (e.g., _attribute). \n",
    "This is a convention rather than a strict rule.\n",
    "Private Attributes and Methods:\n",
    "\n",
    "To make an attribute or method private (i.e., inaccessible from outside the class), you use a double underscore prefix (e.g., __attribute). \n",
    "This name mangling makes it harder (but not impossible) to access these members from outside the class.\n",
    "*2. Using Property Decorators\n",
    "Python provides property decorators to control access to attributes through getter, setter, and deleter methods.\n",
    "This allows you to create managed attributes with controlled access."
   ]
  },
  {
   "cell_type": "code",
   "execution_count": null,
   "id": "8f3b1463-dbfa-4047-97b7-dc8004f08a64",
   "metadata": {},
   "outputs": [],
   "source": [
    "Q.48:- Can encapsulation be bypassed in Python? if so,how?\n",
    "Ans:- Yes, encapsulation can be bypassed in Python due to its dynamic and flexible nature. \n",
    "Python's encapsulation mechanisms, such as protected and private attributes, rely more on conventions and naming practices than on strict enforcement.\n",
    "Here’s how encapsulation can be bypassed:\n",
    "\n",
    "1. Accessing Protected Attributes\n",
    "Protected attributes, indicated by a single underscore prefix (e.g., _attribute), are meant to signal that they should not be accessed directly from outside the class.\n",
    "However, this is just a convention and does not prevent access:\n",
    "    2. Accessing Private Attributes\n",
    "Private attributes, indicated by a double underscore prefix (e.g., __attribute), use name mangling to make them harder to access from outside the class. \n",
    "However, name mangling does not make them completely inaccessible:\n",
    "    3. Using Reflection\n",
    "Python’s reflection capabilities allow you to inspect and modify objects at runtime. \n",
    "You can use the getattr, setattr, and delattr functions to access and modify attributes, including private ones:\n",
    "    4. Modifying Class Internals\n",
    "You can also manipulate class internals directly if you know the structure of the class.\n",
    "5. Using Inheritance\n",
    "In some cases, subclasses might access protected or private members of a base class.\n",
    "While encapsulation can be bypassed, it is generally good practice to respect encapsulation principles as they improve code maintainability and reduce the risk of unintended side effects. \n",
    "Encapsulation is about design intent and ensuring that the internal state of an object is managed properly."
   ]
  },
  {
   "cell_type": "code",
   "execution_count": 3,
   "id": "9e87f59f-c126-4c1f-a8bf-283c18016323",
   "metadata": {},
   "outputs": [
    {
     "name": "stdout",
     "output_type": "stream",
     "text": [
      "Current balance is $100.00.\n",
      "Deposited $50.00. New balance is $150.00.\n"
     ]
    }
   ],
   "source": [
    "# Q.49:-Implement a class BankAccount with a private balance attribute. Include methods to deposite,withdraw,and check the balance.\n",
    "#Ans\n",
    "class BankAccount:\n",
    "    def __init__(self, initial_balance=0):\n",
    "        self.__balance = initial_balance  # Private balance attribute\n",
    "\n",
    "    def deposit(self, amount):\n",
    "        \"\"\"Deposit money into the account.\"\"\"\n",
    "        if amount > 0:\n",
    "            self.__balance += amount\n",
    "            print(f\"Deposited ${amount:.2f}. New balance is ${self.__balance:.2f}.\")\n",
    "        else:\n",
    "            print(\"Deposit amount must be positive.\")\n",
    "\n",
    "    def withdraw(self, amount):\n",
    "        \"\"\"Withdraw money from the account.\"\"\"\n",
    "        if amount > 0:\n",
    "            if amount <= self.__balance:\n",
    "                self.__balance -= amount\n",
    "                print(f\"Withdrew ${amount:.2f}. New balance is ${self.__balance:.2f}.\")\n",
    "            else:\n",
    "                print(\"Insufficient funds.\")\n",
    "        else:\n",
    "            print(\"Withdrawal amount must be positive.\")\n",
    "\n",
    "    def check_balance(self):\n",
    "        \"\"\"Check the current balance.\"\"\"\n",
    "        print(f\"Current balance is ${self.__balance:.2f}.\")\n",
    "\n",
    "# Example usage:\n",
    "account = BankAccount(100)  # Create a BankAccount with an initial balance of $100\n",
    "account.check_balance()     # Output: Current balance is $100.00\n",
    "account.deposit(50)         # Output: Deposited $50.00. New \n"
   ]
  },
  {
   "cell_type": "code",
   "execution_count": 4,
   "id": "e64fae7d-39dc-4e0c-a0fc-221cd15a0673",
   "metadata": {},
   "outputs": [
    {
     "name": "stdout",
     "output_type": "stream",
     "text": [
      "alice@example.com\n",
      "Email updated to alice.new@example.com.\n",
      "alice.new@example.com\n",
      "Invalid email address.\n"
     ]
    }
   ],
   "source": [
    "#Q.50:-Develop a person class with private attributes name and email, and methods to set and get the email.\n",
    "#Ans:-\n",
    "class Person:\n",
    "    def __init__(self, name, email):\n",
    "        self.__name = name        # Private attribute\n",
    "        self.__email = email      # Private attribute\n",
    "\n",
    "    def set_email(self, email):\n",
    "        \"\"\"Set the email attribute.\"\"\"\n",
    "        if isinstance(email, str) and '@' in email:\n",
    "            self.__email = email\n",
    "            print(f\"Email updated to {self.__email}.\")\n",
    "        else:\n",
    "            print(\"Invalid email address.\")\n",
    "\n",
    "    def get_email(self):\n",
    "        \"\"\"Get the email attribute.\"\"\"\n",
    "        return self.__email\n",
    "\n",
    "    def get_name(self):\n",
    "        \"\"\"Get the name attribute.\"\"\"\n",
    "        return self.__name\n",
    "\n",
    "# Example usage:\n",
    "person = Person(\"Alice\", \"alice@example.com\")\n",
    "\n",
    "# Retrieve and print the email\n",
    "print(person.get_email())  # Output: alice@example.com\n",
    "\n",
    "# Set a new valid email\n",
    "person.set_email(\"alice.new@example.com\")  # Output: Email updated to alice.new@example.com\n",
    "\n",
    "# Retrieve and print the updated email\n",
    "print(person.get_email())  # Output: alice.new@example.com\n",
    "\n",
    "# Try setting an invalid email\n",
    "person.set_email(\"invalid-email\")  # Output: Invalid email address.\n"
   ]
  },
  {
   "cell_type": "code",
   "execution_count": null,
   "id": "6d0a1949-9846-47da-875f-f316255e7c2a",
   "metadata": {},
   "outputs": [],
   "source": [
    "# Q.51:- Why is encapsulation considered a pillar of object-oriented programming(oop)?\n",
    "# Ans:- \n",
    "Encapsulation is considered one of the key pillars of object-oriented programming (OOP) due to its crucial role in managing complexity, enhancing code maintainability, and promoting a clean and modular design.\n",
    "Here’s why encapsulation is so important in OOP:\n",
    "\n",
    "**1. Data Hiding:\n",
    "Controlled Access: Encapsulation allows for the internal state of an object to be hidden from the outside world. \n",
    "                  By using private and protected attributes, a class can prevent unauthorized or unintended access and modification of its internal data.\n",
    "Implementation Details: It hides the implementation details of an object’s state and behavior, exposing only what is necessary for interaction through a public interface. \n",
    "                        This helps in safeguarding the integrity of the data.\n",
    "**2. Modularity:\n",
    "Separation of Concerns: Encapsulation helps in dividing a program into distinct, manageable sections or modules.\n",
    "                       Each class handles its own data and behavior, making it easier to understand, develop, and maintain.\n",
    "Improved Organization: By bundling data (attributes) and methods (functions) that operate on the data into a single unit (class), encapsulation promotes a clear and organized structure.\n",
    "**3. Maintainability:\n",
    "Easier Updates: When the internal implementation of a class changes, the class’s external interface (public methods) can remain the same.\n",
    "               This means that other parts of the code that use the class don’t need to be updated as long as the interface remains consistent.\n",
    "Reduced Complexity: Encapsulation reduces the complexity of the code by hiding the details and exposing only the necessary functionality. \n",
    "                    This makes the codebase easier to manage and less error-prone.\n",
    "**4. Flexibility and Extensibility:\n",
    "Controlled Interaction: Encapsulation allows for controlled interaction with an object’s data.\n",
    "                       Methods can enforce constraints or rules on how data is accessed or modified, providing more control over the object's state.\n",
    "Flexible Interfaces: It enables you to change or extend the class implementation without affecting the code that depends on it. \n",
    "                     For example, you can modify internal algorithms or data structures while keeping the public interface the same.\n",
    "**5. Encapsulation in Practice:\n",
    "Encapsulation of Attributes: By keeping attributes private and providing public getter and setter methods, you can control how attributes are accessed and modified. \n",
    "                            This allows for validation and control over the data.\n",
    "Encapsulation of Behavior: Methods within a class can interact with its private data and perform operations in a controlled manner, hiding the complexity from the outside world."
   ]
  },
  {
   "cell_type": "code",
   "execution_count": 10,
   "id": "2a9acaf9-542d-4345-bd5c-e692d03bae15",
   "metadata": {},
   "outputs": [],
   "source": [
    "# Q.52:- create a decorator in Python that adds functinality to a sample function by printing a message before and after the function execution.\n",
    " # Ans:-\n",
    "   # In Python, decorators are a powerful feature that allows you to modify or extend the behavior of functions or methods. \n",
    "   # Here’s how you can create a decorator that adds functionality to a sample function by printing a message before and after the function execution:\n",
    " # example of decorator function\n",
    "    def my_decorator(func):\n",
    "    def wrapper(*args, **kwargs):\n",
    "        print(\"Before function execution\")\n",
    "        result = func(*args, **kwargs)  # Call the original function\n",
    "        print(\"After function execution\")\n",
    "        return result \n",
    "    return wrapper\n"
   ]
  },
  {
   "cell_type": "code",
   "execution_count": null,
   "id": "15653945-b83e-437e-88eb-4a68c3062812",
   "metadata": {},
   "outputs": [],
   "source": [
    "#Q.53:- Modify the decorator to accept arguments and print the function name along with the messsage.\n",
    "# Ans:- To modify the decorator so that it accepts arguments and prints the function name along with the message, you can adjust the decorator to handle additional parameters.\n",
    " #     Here's how you can achieve this:\n",
    "    # Decorator Definition with Arguments:\n",
    "def my_decorator(message_before, message_after):\n",
    "        def decorator(func):\n",
    "            def wrapper(*args, **kwargs):\n",
    "            print(f\"{message_before} - Function: {func.__name__}\")\n",
    "            result = func(*args, **kwargs)  # Call the original function\n",
    "            print(f\"{message_after} - Function: {func.__name__}\")\n",
    "            return result\n",
    "        return wrapper\n",
    "    return decorator\n"
   ]
  },
  {
   "cell_type": "code",
   "execution_count": 67,
   "id": "7141c994-9305-4e7f-92aa-b1220f36f971",
   "metadata": {},
   "outputs": [
    {
     "name": "stdout",
     "output_type": "stream",
     "text": [
      "Hello, Alice!\n"
     ]
    }
   ],
   "source": [
    "# Q.54:- Create two decorators and apply them to a single function. Ensure that they execute in the order they execute in the order they are applied.\n",
    "# Ans:- When applying multiple decorators to a single function in Python, the order of application matters. The decorators are applied from the innermost to the outermost. Here’s an example demonstrating this:\n",
    "\n",
    "#Define Two Decorators:\n",
    "#Decorator 1: Adds a prefix message before the function execution.\n",
    "#Decorator 2: Adds a suffix message after the function execution.\n",
    "\n",
    "def prefix_decorator(func):\n",
    "    def wrapper(*args, **kwargs):\n",
    "        print(\"Prefix message before function execution\")\n",
    "        result = func(*args, **kwargs)  # Call the original function\n",
    "        return result\n",
    "    return wrapper\n",
    "\n",
    "def suffix_decorator(func):\n",
    "    def wrapper(*args, **kwargs):\n",
    "        result = func(*args, **kwargs)  # Call the original function\n",
    "        print(\"Suffix message after function execution\")\n",
    "        return result\n",
    "    return wrapper\n",
    " # Apply Both Decorators to a Single Function:\n",
    "        #@prefix_decorator\n",
    "       #@suffix_decorator\n",
    "def say_hello(name):\n",
    "    print(f\"Hello, {name}!\")\n",
    "\n",
    "# Example usage:\n",
    "say_hello(\"Alice\")\n",
    "\n"
   ]
  },
  {
   "cell_type": "code",
   "execution_count": 69,
   "id": "723e5a5a-edf8-438c-bca3-fb68b80c6475",
   "metadata": {
    "tags": []
   },
   "outputs": [
    {
     "name": "stdout",
     "output_type": "stream",
     "text": [
      "Hi, Alice!\n"
     ]
    }
   ],
   "source": [
    "# Q.55:- Modify the decorator to accept and pass function arguments to the wrapped function.\n",
    "#Ans:-\n",
    "  # To modify the decorators so they accept and pass function arguments to the wrapped function, you need to ensure that the wrapper function inside the decorators can accept arbitrary arguments and keyword arguments. This is accomplished using *args and **kwargs. Here’s how you can do it:\n",
    "\n",
    "#Define Two Decorators That Accept and Pass Arguments:\n",
    "#Decorator 1: Adds a prefix message before the function execution.\n",
    "#Decorator 2: Adds a suffix message after the function execution.\n",
    "def prefix_decorator(func):\n",
    "    def wrapper(*args, **kwargs):\n",
    "        print(\"Prefix message before function execution\")\n",
    "        result = func(*args, **kwargs)  # Call the original function with arguments\n",
    "        return result\n",
    "    return wrapper\n",
    "\n",
    "def suffix_decorator(func):\n",
    "    def wrapper(*args, **kwargs):\n",
    "        result = func(*args, **kwargs)  # Call the original function with arguments\n",
    "        print(\"Suffix message after function execution\")\n",
    "        return result\n",
    "    return wrapper\n",
    "#Apply Both Decorators to a Single Function:\n",
    "   #@prefix_decorator\n",
    "#@suffix_decorator\n",
    "def say_hello(name, greeting=\"Hello\"):\n",
    "    print(f\"{greeting}, {name}!\")\n",
    "\n",
    "# Example usage:\n",
    "say_hello(\"Alice\", greeting=\"Hi\")\n"
   ]
  },
  {
   "cell_type": "code",
   "execution_count": 70,
   "id": "c5f527c5-5b0e-4cbd-be31-a8edef2cc006",
   "metadata": {},
   "outputs": [
    {
     "name": "stdout",
     "output_type": "stream",
     "text": [
      "example_function\n",
      "This is the docstring of the original function.\n",
      "Parameters: Hello, World\n"
     ]
    }
   ],
   "source": [
    "# Q.56:-Create a decorator that preserves the metadta of the original function.\n",
    "# ans:-\n",
    "#To create a decorator that preserves the metadata of the original function, such as its docstring and name, you can use the functools.wraps function from the functools module. functools.wraps is a decorator itself that helps in copying the metadata from the original function to the wrapper function.\n",
    "\n",
    "#Here’s how you can create such a decorator:\n",
    "\n",
    "#Decorator with Metadata Preservation:\n",
    " #   from functools import wraps\n",
    "\n",
    "def preserve_metadata(func):\n",
    "  #  @wraps(func)\n",
    "    def wrapper(*args, **kwargs):\n",
    "        # Call the original function\n",
    "        result = func(*args, **kwargs)\n",
    "        return result\n",
    "    return wrapper\n",
    "# Applying the Decorator:\n",
    "# @preserve_metadata\n",
    "def example_function(param1, param2):\n",
    "    \"\"\"This is the docstring of the original function.\"\"\"\n",
    "    return f\"Parameters: {param1}, {param2}\"\n",
    "\n",
    "# Example usage:\n",
    "print(example_function.__name__)  # Output: example_function\n",
    "print(example_function.__doc__)   # Output: This is the docstring of the original function.\n",
    "print(example_function(\"Hello\", \"World\"))  # Output: Parameters: Hello, World\n"
   ]
  },
  {
   "cell_type": "code",
   "execution_count": 71,
   "id": "10cff55c-316f-41bd-bc00-a3cb35d5f1c8",
   "metadata": {},
   "outputs": [
    {
     "name": "stdout",
     "output_type": "stream",
     "text": [
      "The sum is: 8\n"
     ]
    }
   ],
   "source": [
    "# Q.57:- Create a Python class 'Calculator' with a static method 'add' that takes in two numbers and reurns their sum.\n",
    "# Ans:-Here’s how you can create a Python class Calculator with a static method add that takes two numbers and returns their sum:\n",
    "class Calculator:\n",
    "   # @staticmethod\n",
    "    def add(a, b):\n",
    "        \"\"\"Return the sum of two numbers.\"\"\"\n",
    "        return a + b\n",
    "\n",
    "# Example usage:\n",
    "result = Calculator.add(5, 3)\n",
    "print(f\"The sum is: {result}\")  # Output: The sum is: 8\n"
   ]
  },
  {
   "cell_type": "code",
   "execution_count": 72,
   "id": "b2614866-9b2c-439f-8eb4-2e4475830d05",
   "metadata": {},
   "outputs": [
    {
     "name": "stdout",
     "output_type": "stream",
     "text": [
      "Total number of employees: 3\n"
     ]
    }
   ],
   "source": [
    "# Q.58:- Create a Python class 'Employee' with a class 'method get_employee_count' that returns the total number of employeees created.\n",
    "# Ans:-\n",
    "#To create a Python class Employee with a class method get_employee_count that returns the total number of employees created, you can use a class variable to keep track of the number of instances. \n",
    "#Here’s how you can implement it:\n",
    "class Employee:\n",
    "    # Class variable to keep track of the number of employees\n",
    "    _employee_count = 0\n",
    "\n",
    "    def __init__(self, name):\n",
    "        self.name = name\n",
    "        # Increment the employee count when a new instance is created\n",
    "        Employee._employee_count += 1\n",
    "\n",
    "    @classmethod\n",
    "    def get_employee_count(cls):\n",
    "        \"\"\"Return the total number of employees created.\"\"\"\n",
    "        return cls._employee_count\n",
    "\n",
    "# Example usage:\n",
    "emp1 = Employee(\"Alice\")\n",
    "emp2 = Employee(\"Bob\")\n",
    "emp3 = Employee(\"Charlie\")\n",
    "\n",
    "# Get the total number of employees created\n",
    "print(f\"Total number of employees: {Employee.get_employee_count()}\")  # Output: Total number of employees: 3\n"
   ]
  },
  {
   "cell_type": "code",
   "execution_count": 73,
   "id": "64a5e8e5-1ffb-4c5a-8a41-b30dc5c728fb",
   "metadata": {},
   "outputs": [
    {
     "name": "stdout",
     "output_type": "stream",
     "text": [
      "Original string: Hello, World!\n",
      "Reversed string: !dlroW ,olleH\n"
     ]
    }
   ],
   "source": [
    "# Q.59:- Create a Python class 'StringFormatter' with a static method 'reverse_string' that takes a strings as input and returns its reverse\n",
    "#Ans:-\n",
    "# Here’s how you can create a Python class StringFormatter with a static method reverse_string that takes a string as input and returns its reverse:\n",
    "class StringFormatter:\n",
    "    @staticmethod\n",
    "    def reverse_string(s):\n",
    "        \"\"\"Return the reverse of the given string.\"\"\"\n",
    "        return s[::-1]\n",
    "\n",
    "# Example usage:\n",
    "original_string = \"Hello, World!\"\n",
    "reversed_string = StringFormatter.reverse_string(original_string)\n",
    "print(f\"Original string: {original_string}\")  # Output: Original string: Hello, World!\n",
    "print(f\"Reversed string: {reversed_string}\")  # Output: Reversed string: !dlroW ,olleH\n"
   ]
  },
  {
   "cell_type": "code",
   "execution_count": 74,
   "id": "0040c415-12ff-4f89-bd9e-f57ca6093e66",
   "metadata": {},
   "outputs": [
    {
     "name": "stdout",
     "output_type": "stream",
     "text": [
      "The area of the circle with radius 5 is: 78.54\n"
     ]
    }
   ],
   "source": [
    "# Q.60:-Create a Python class 'Circle' with a class method 'calculate_area' that calculates the area of a circle given its radius.\n",
    "#Ans:-\n",
    "# To create a Python class Circle with a class method calculate_area that calculates the area of a circle given its radius, you can use the following code. The area of a circle is calculated using the formula \n",
    "#area = 𝜋*radius*radius , where π (pi) is a constant approximately equal to 3.14159.\n",
    "# Here's how you can implement it:\n",
    "import math\n",
    "\n",
    "class Circle:\n",
    "    @classmethod\n",
    "    def calculate_area(cls, radius):\n",
    "        \"\"\"Calculate the area of a circle given its radius.\"\"\"\n",
    "        return math.pi * (radius ** 2)\n",
    "\n",
    "# Example usage:\n",
    "radius = 5\n",
    "area = Circle.calculate_area(radius)\n",
    "print(f\"The area of the circle with radius {radius} is: {area:.2f}\")\n"
   ]
  },
  {
   "cell_type": "code",
   "execution_count": 75,
   "id": "d0de59dc-efef-4b5a-a61f-895568368da6",
   "metadata": {},
   "outputs": [
    {
     "name": "stdout",
     "output_type": "stream",
     "text": [
      "25°C is equivalent to 77.0°F\n"
     ]
    }
   ],
   "source": [
    " # Q.61:- Create a Python class 'TemperatureConverter' with a static method' celsius_to_fahrenheit' that converts celsius to Fahrenheit.\n",
    " #Ans:-  To create a Python class TemperatureConverter with a static method celsius_to_fahrenheit that converts Celsius to Fahrenheit, you can use the following code.\n",
    "# The formula to convert Celsius to Fahrenheit is:\n",
    "\n",
    "#Here’s the implementation:\n",
    "class TemperatureConverter:\n",
    "    @staticmethod\n",
    "    def celsius_to_fahrenheit(celsius):\n",
    "        \"\"\"Convert Celsius to Fahrenheit.\"\"\"\n",
    "        return (celsius * 9/5) + 32\n",
    "\n",
    "# Example usage:\n",
    "celsius_temp = 25\n",
    "fahrenheit_temp = TemperatureConverter.celsius_to_fahrenheit(celsius_temp)\n",
    "print(f\"{celsius_temp}°C is equivalent to {fahrenheit_temp}°F\")\n"
   ]
  },
  {
   "cell_type": "code",
   "execution_count": 76,
   "id": "4551a2a7-7f13-48a6-892b-9af41b554916",
   "metadata": {},
   "outputs": [
    {
     "name": "stdout",
     "output_type": "stream",
     "text": [
      "Person(name=Alice, age=30)\n"
     ]
    }
   ],
   "source": [
    "# Q.62:- What is the purpose of the __str__() method in Python classes? Provide an example.\n",
    "# Ans:-\n",
    "#The __str__() method in Python classes is used to define a human-readable string representation of an object. When you use print() or str() on an object, Python internally calls the __str__() method to get the string representation of the object.\n",
    "#This method is meant to provide a clear and informative string that represents the object in a way that's useful for end-users.\n",
    "\n",
    "# Purpose of __str__() Method:\n",
    "# Human-Readable Representation: It provides a string that is meant to be readable and informative to humans.\n",
    "# Improves Debugging: When debugging or logging, having a meaningful string representation of an object can be very helpful.\n",
    "# Custom Formatting: Allows you to customize how an object is displayed or formatted when converted to a string.\n",
    "# Example Implementation:\n",
    "# Here’s an example of a Python class Person that includes the __str__() method:\n",
    "class Person:\n",
    "    def __init__(self, name, age):\n",
    "        self.name = name\n",
    "        self.age = age\n",
    "\n",
    "    def __str__(self):\n",
    "        \"\"\"Return a human-readable string representation of the Person object.\"\"\"\n",
    "        return f\"Person(name={self.name}, age={self.age})\"\n",
    "\n",
    "# Example usage:\n",
    "person = Person(\"Alice\", 30)\n",
    "print(person)  # Output: Person(name=Alice, age=30)\n"
   ]
  },
  {
   "cell_type": "code",
   "execution_count": 77,
   "id": "82a0caf2-3c56-4bcf-aad3-d03221b6bd17",
   "metadata": {},
   "outputs": [
    {
     "name": "stdout",
     "output_type": "stream",
     "text": [
      "5\n"
     ]
    }
   ],
   "source": [
    "# Q.63:- How does the __len__() method work in Python ? Provide an example.\n",
    "# Ans:- In Python, the __len__() method is a special method that allows you to define the behavior of the len() function for instances of a class. When you call len() on an object, Python internally calls the object's __len__() method to determine its length.\n",
    "\n",
    "#Here’s a simple example to illustrate how to use the __len__() method:\n",
    "class MyCollection:\n",
    "    def __init__(self, items):\n",
    "        self.items = items\n",
    "\n",
    "    def __len__(self):\n",
    "        return len(self.items)\n",
    "\n",
    "# Creating an instance of MyCollection\n",
    "my_collection = MyCollection([1, 2, 3, 4, 5])\n",
    "\n",
    "# Using the len() function, which calls the __len__() method\n",
    "print(len(my_collection))  # Output: 5\n"
   ]
  },
  {
   "cell_type": "code",
   "execution_count": 78,
   "id": "a588bd74-eddc-4473-96a7-c6347d73d677",
   "metadata": {},
   "outputs": [
    {
     "name": "stdout",
     "output_type": "stream",
     "text": [
      "Vector(4, 6)\n"
     ]
    }
   ],
   "source": [
    "# Q.64:- Explain the usage of the __add__() method in Python classes. Provide an example.\n",
    "# Ans:- The __add__() method in Python allows you to define custom behavior for the + operator when used with instances of your class. By implementing the __add__() method, you can specify how objects of your class should be added together.\n",
    "\n",
    "# Here’s a basic example to demonstrate how to use the __add__() method:\n",
    "class Vector:\n",
    "    def __init__(self, x, y):\n",
    "        self.x = x\n",
    "        self.y = y\n",
    "\n",
    "    def __add__(self, other):\n",
    "        if isinstance(other, Vector):\n",
    "            return Vector(self.x + other.x, self.y + other.y)\n",
    "        return NotImplemented\n",
    "\n",
    "    def __repr__(self):\n",
    "        return f\"Vector({self.x}, {self.y})\"\n",
    "\n",
    "# Creating instances of Vector\n",
    "v1 = Vector(1, 2)\n",
    "v2 = Vector(3, 4)\n",
    "\n",
    "# Adding two vectors using the + operator\n",
    "result = v1 + v2\n",
    "\n",
    "print(result)  # Output: Vector(4, 6)\n"
   ]
  },
  {
   "cell_type": "code",
   "execution_count": 79,
   "id": "d733d03c-370c-4dc3-8d68-5fbf0eaa42f9",
   "metadata": {},
   "outputs": [
    {
     "name": "stdout",
     "output_type": "stream",
     "text": [
      "Alice\n",
      "30\n",
      "Bob\n",
      "35\n"
     ]
    }
   ],
   "source": [
    "# Q.65:- What is the purpose of a getter method in Python. demonstrate how to use a setter method to modify a class attribute using property decorators.\n",
    "# Ans:-In Python, getter and setter methods are used to control access to private attributes of a class. Getter methods retrieve the value of an attribute, while setter methods modify the value. Using property decorators simplifies the process of defining getter and setter methods, making the code cleaner and more readable.\n",
    "\n",
    "#Here’s an example demonstrating how to use property decorators to create getter and setter methods for a class attribute:\n",
    "class Person:\n",
    "    def __init__(self, name, age):\n",
    "        self._name = name\n",
    "        self._age = age\n",
    "\n",
    "    @property\n",
    "    def name(self):\n",
    "        # Getter method for 'name'\n",
    "        return self._name\n",
    "\n",
    "    @name.setter\n",
    "    def name(self, value):\n",
    "        # Setter method for 'name'\n",
    "        if not value:\n",
    "            raise ValueError(\"Name cannot be empty.\")\n",
    "        self._name = value\n",
    "\n",
    "    @property\n",
    "    def age(self):\n",
    "        # Getter method for 'age'\n",
    "        return self._age\n",
    "\n",
    "    @age.setter\n",
    "    def age(self, value):\n",
    "        # Setter method for 'age'\n",
    "        if value < 0:\n",
    "            raise ValueError(\"Age cannot be negative.\")\n",
    "        self._age = value\n",
    "\n",
    "# Creating an instance of Person\n",
    "person = Person(\"Alice\", 30)\n",
    "\n",
    "# Accessing attributes using getter methods\n",
    "print(person.name)  # Output: Alice\n",
    "print(person.age)   # Output: 30\n",
    "\n",
    "# Modifying attributes using setter methods\n",
    "person.name = \"Bob\"\n",
    "person.age = 35\n",
    "\n",
    "print(person.name)  # Output: Bob\n",
    "print(person.age)   # Output: 35\n",
    "\n",
    "# Attempting to set invalid values will raise an exception\n",
    "# person.name = \"\"  # Raises ValueError: Name cannot be empty.\n",
    "# person.age = -5   # Raises ValueError: Age cannot be negative.\n"
   ]
  },
  {
   "cell_type": "code",
   "execution_count": 81,
   "id": "aa5e0ccd-5030-487d-94cf-a4ed5cd83ad2",
   "metadata": {},
   "outputs": [
    {
     "name": "stdout",
     "output_type": "stream",
     "text": [
      "5\n",
      "4\n",
      "3\n",
      "2\n",
      "1\n"
     ]
    }
   ],
   "source": [
    "# Q.66:- Explain the usage of the __iter__() and __next__() methods in Pythod.Provide an example using iterators.\n",
    "# Ans:-\n",
    "#In Python, the __iter__() and __next__() methods are used to create and work with iterators. These methods are essential for defining custom iteration behavior in classes.\n",
    "\n",
    "#__iter__(): This method is used to initialize and return an iterator object. The iterator object must implement the __next__() method.\n",
    "#__next__(): This method returns the next item from the iterator. If there are no more items to return, it should raise the StopIteration exception to signal that the iteration is complete.\n",
    " # Here’s an example to demonstrate how to implement these methods to create a custom iterator:\n",
    "class CountDown:\n",
    "    def __init__(self, start):\n",
    "        self.start = start\n",
    "\n",
    "    def __iter__(self):\n",
    "        # The iterator object is the CountDown instance itself\n",
    "        self.current = self.start\n",
    "        return self\n",
    "\n",
    "    def __next__(self):\n",
    "        if self.current <= 0:\n",
    "            # StopIteration exception indicates that the iteration is complete\n",
    "            raise StopIteration\n",
    "        else:\n",
    "            # Return the current value and then decrement it\n",
    "            self.current -= 1\n",
    "            return self.current + 1\n",
    "\n",
    "# Creating an instance of CountDown\n",
    "countdown = CountDown(5)\n",
    "\n",
    "# Using the iterator\n",
    "for number in countdown:\n",
    "    print(number)\n"
   ]
  },
  {
   "cell_type": "code",
   "execution_count": 82,
   "id": "703a039c-84f6-4989-86ed-a7a1fb90676a",
   "metadata": {},
   "outputs": [
    {
     "name": "stdout",
     "output_type": "stream",
     "text": [
      "5\n",
      "10\n",
      "78.53981633974483\n"
     ]
    }
   ],
   "source": [
    "# Q.67:- What is the purpose of a getter method in Python? Provide an example demonstrating the use of a getter method using property decorators.\n",
    "# ans:- In Python, a getter method is used to provide controlled access to private or protected attributes of a class. It allows you to retrieve the value of an attribute in a controlled manner, often including validation or transformation logic. The @property decorator is commonly used to create getter methods, making the attribute access look like regular attribute access rather than method calls.\n",
    "\n",
    "# Here’s a simple example demonstrating how to use a getter method with property decorators:\n",
    "class Circle:\n",
    "    def __init__(self, radius):\n",
    "        self._radius = radius\n",
    "\n",
    "    @property\n",
    "    def radius(self):\n",
    "        # Getter method for 'radius'\n",
    "        return self._radius\n",
    "\n",
    "    @property\n",
    "    def diameter(self):\n",
    "        # Calculated property for 'diameter'\n",
    "        return self._radius * 2\n",
    "\n",
    "    @property\n",
    "    def area(self):\n",
    "        # Calculated property for 'area'\n",
    "        import math\n",
    "        return math.pi * (self._radius ** 2)\n",
    "\n",
    "# Creating an instance of Circle\n",
    "circle = Circle(5)\n",
    "\n",
    "# Accessing attributes using getter methods\n",
    "print(circle.radius)   # Output: 5\n",
    "print(circle.diameter) # Output: 10\n",
    "print(circle.area)     # Output: 78.53981633974483\n"
   ]
  },
  {
   "cell_type": "code",
   "execution_count": 83,
   "id": "a6be4f70-40c5-481e-896c-b238deaed9e2",
   "metadata": {},
   "outputs": [
    {
     "name": "stdout",
     "output_type": "stream",
     "text": [
      "25\n",
      "77.0\n",
      "30\n",
      "86.0\n"
     ]
    }
   ],
   "source": [
    "# Q.68:-Explain the role of setter methods in Python? Demonstrate how to use a setter method to modify a class attribute using property decorators.\n",
    "# Ans:-\n",
    "#In Python, setter methods are used to control how attributes of a class are modified. They allow you to implement validation or transformation logic when setting a value. Setter methods are defined using the @property decorator in conjunction with the @<property_name>.setter decorator, which provides a way to define a method that sets the value of an attribute.\n",
    "\n",
    "#  Here’s how setter methods work and how to use them with property decorators:\n",
    "\n",
    "#  1.Define a Getter Method: Use the @property decorator to define a method that retrieves the value of an attribute.\n",
    "\n",
    "# 2.Define a Setter Method: Use the @<property_name>.setter decorator to define a method that sets the value of the attribute, often including validation logic.\n",
    "\n",
    "# Here’s an example to demonstrate the use of setter methods:\n",
    "class Temperature:\n",
    "    def __init__(self, celsius):\n",
    "        self._celsius = None\n",
    "        self.celsius = celsius  # Use the setter to initialize\n",
    "\n",
    "    @property\n",
    "    def celsius(self):\n",
    "        # Getter method for 'celsius'\n",
    "        return self._celsius\n",
    "\n",
    "    @celsius.setter\n",
    "    def celsius(self, value):\n",
    "        # Setter method for 'celsius'\n",
    "        if not (-273.15 <= value):\n",
    "            raise ValueError(\"Temperature cannot be below absolute zero.\")\n",
    "        self._celsius = value\n",
    "\n",
    "    @property\n",
    "    def fahrenheit(self):\n",
    "        # Getter method for 'fahrenheit', calculated from 'celsius'\n",
    "        return self._celsius * 9/5 + 32\n",
    "\n",
    "# Creating an instance of Temperature\n",
    "temp = Temperature(25)\n",
    "\n",
    "# Accessing attributes using getter methods\n",
    "print(temp.celsius)    # Output: 25\n",
    "print(temp.fahrenheit) # Output: 77.0\n",
    "\n",
    "# Modifying attributes using setter methods\n",
    "temp.celsius = 30\n",
    "\n",
    "print(temp.celsius)    # Output: 30\n",
    "print(temp.fahrenheit) # Output: 86.0\n",
    "\n",
    "# Attempting to set an invalid value will raise an exception\n",
    "# temp.celsius = -300  # Raises ValueError: Temperature cannot be below absolute zero.\n"
   ]
  },
  {
   "cell_type": "code",
   "execution_count": 84,
   "id": "af7246ec-1e79-454f-9aea-60680fc22940",
   "metadata": {},
   "outputs": [
    {
     "name": "stdout",
     "output_type": "stream",
     "text": [
      "4\n",
      "5\n",
      "20\n",
      "18\n",
      "6\n",
      "7\n",
      "42\n",
      "26\n"
     ]
    }
   ],
   "source": [
    "# Q.69:- What is the purpose of the @property decorato in python? Provide an example illustrating its usage.\n",
    "# Ans:-\n",
    "#The @property decorator in Python is used to define a method in a class that can be accessed like an attribute. This allows you to define a method that retrieves the value of an attribute, while keeping the attribute access syntax clean and intuitive.\n",
    "#The @property decorator is often used to:\n",
    "#Encapsulate and control access to private attributes.\n",
    "#Provide computed or derived values based on other attributes.\n",
    "#Add validation or logic when getting an attribute's value.\n",
    "\n",
    "#  Here's an example to illustrate the usage of the @property decorator:\n",
    "class Rectangle:\n",
    "    def __init__(self, width, height):\n",
    "        self._width = width\n",
    "        self._height = height\n",
    "\n",
    "    @property\n",
    "    def width(self):\n",
    "        # Getter method for 'width'\n",
    "        return self._width\n",
    "\n",
    "    @width.setter\n",
    "    def width(self, value):\n",
    "        if value <= 0:\n",
    "            raise ValueError(\"Width must be positive.\")\n",
    "        self._width = value\n",
    "\n",
    "    @property\n",
    "    def height(self):\n",
    "        # Getter method for 'height'\n",
    "        return self._height\n",
    "\n",
    "    @height.setter\n",
    "    def height(self, value):\n",
    "        if value <= 0:\n",
    "            raise ValueError(\"Height must be positive.\")\n",
    "        self._height = value\n",
    "\n",
    "    @property\n",
    "    def area(self):\n",
    "        # Calculated property for 'area'\n",
    "        return self._width * self._height\n",
    "\n",
    "    @property\n",
    "    def perimeter(self):\n",
    "        # Calculated property for 'perimeter'\n",
    "        return 2 * (self._width + self._height)\n",
    "\n",
    "# Creating an instance of Rectangle\n",
    "rect = Rectangle(4, 5)\n",
    "\n",
    "# Accessing attributes using getter methods\n",
    "print(rect.width)       # Output: 4\n",
    "print(rect.height)      # Output: 5\n",
    "print(rect.area)        # Output: 20\n",
    "print(rect.perimeter)   # Output: 18\n",
    "\n",
    "# Modifying attributes using setter methods\n",
    "rect.width = 6\n",
    "rect.height = 7\n",
    "\n",
    "print(rect.width)       # Output: 6\n",
    "print(rect.height)      # Output: 7\n",
    "print(rect.area)        # Output: 42\n",
    "print(rect.perimeter)   # Output: 26\n",
    "\n",
    "# Attempting to set invalid values will raise an exception\n",
    "# rect.width = -3  # Raises ValueError: Width must be positive.\n",
    "# rect.height = -4 # Raises ValueError: Height must be positive.\n"
   ]
  },
  {
   "cell_type": "code",
   "execution_count": 85,
   "id": "96ed9710-7274-4fdf-83b9-6d30f723e052",
   "metadata": {},
   "outputs": [
    {
     "name": "stdout",
     "output_type": "stream",
     "text": [
      "Alice\n",
      "Bob\n",
      "Deleting name: Bob\n"
     ]
    }
   ],
   "source": [
    "# Q.70:-Expalin the use of the @deleter decorator in Python property decorators. Provide a code example demonstrating it apllication.\n",
    "# Ans:-The @deleter decorator in Python is used to define a method that is called when the del statement is used to delete an attribute. It complements the @property decorator, which allows you to define custom behavior for getting and setting attributes. The @deleter decorator allows you to specify what should happen when an attribute is deleted.\n",
    "#Here’s an example to demonstrate the use of the @deleter decorator:\n",
    "class Person:\n",
    "    def __init__(self, name):\n",
    "        self._name = name\n",
    "\n",
    "    @property\n",
    "    def name(self):\n",
    "        # Getter method for 'name'\n",
    "        return self._name\n",
    "\n",
    "    @name.setter\n",
    "    def name(self, value):\n",
    "        # Setter method for 'name'\n",
    "        if not value:\n",
    "            raise ValueError(\"Name cannot be empty.\")\n",
    "        self._name = value\n",
    "\n",
    "    @name.deleter\n",
    "    def name(self):\n",
    "        # Deleter method for 'name'\n",
    "        print(f\"Deleting name: {self._name}\")\n",
    "        del self._name\n",
    "\n",
    "# Creating an instance of Person\n",
    "person = Person(\"Alice\")\n",
    "\n",
    "# Accessing the name attribute\n",
    "print(person.name)  # Output: Alice\n",
    "\n",
    "# Modifying the name attribute\n",
    "person.name = \"Bob\"\n",
    "print(person.name)  # Output: Bob\n",
    "\n",
    "# Deleting the name attribute\n",
    "del person.name  # Output: Deleting name: Bob\n",
    "\n",
    "# Attempting to access the deleted attribute will raise an AttributeError\n",
    "# print(person.name)  # Raises AttributeError: 'Person' object has no attribute '_name'\n"
   ]
  },
  {
   "cell_type": "code",
   "execution_count": 86,
   "id": "97cec4bb-9c47-4cf1-99f6-a4cd2d0698ee",
   "metadata": {},
   "outputs": [
    {
     "name": "stdout",
     "output_type": "stream",
     "text": [
      "1000\n",
      "1500\n",
      "Balance cannot be negative.\n",
      "Deleting balance for Alice\n",
      "'BankAccount' object has no attribute '_balance'\n"
     ]
    }
   ],
   "source": [
    "# Q.71:- How does encapsulation relate to property decorators in python? provide a code example showcasing encapsulation using property decorators\n",
    "# Ans:- \n",
    "#Encapsulation is a key concept in object-oriented programming that involves bundling data and methods that operate on that data within a single unit or class. \n",
    "#It also involves controlling access to the internal state of the object to protect it from unintended modifications. \n",
    "#Encapsulation helps ensure that an object's internal state is modified only in controlled ways and that the internal workings of a class are hidden from the outside world.\n",
    "# In Python, property decorators (@property, @<property_name>.setter, and @<property_name>.deleter) facilitate encapsulation by allowing you to define how attributes are accessed, modified, and deleted while hiding the actual implementation details.\n",
    "#This means you can manage the internal state of an object through controlled interfaces.\n",
    "\n",
    "# Here’s a code example demonstrating encapsulation using property decorators:\n",
    "class BankAccount:\n",
    "    def __init__(self, owner, balance):\n",
    "        self.owner = owner\n",
    "        self._balance = balance  # Private attribute\n",
    "\n",
    "    @property\n",
    "    def balance(self):\n",
    "        # Getter method for 'balance'\n",
    "        return self._balance\n",
    "\n",
    "    @balance.setter\n",
    "    def balance(self, amount):\n",
    "        # Setter method for 'balance' with validation\n",
    "        if amount < 0:\n",
    "            raise ValueError(\"Balance cannot be negative.\")\n",
    "        self._balance = amount\n",
    "\n",
    "    @balance.deleter\n",
    "    def balance(self):\n",
    "        # Deleter method for 'balance'\n",
    "        print(f\"Deleting balance for {self.owner}\")\n",
    "        del self._balance\n",
    "\n",
    "    def deposit(self, amount):\n",
    "        if amount <= 0:\n",
    "            raise ValueError(\"Deposit amount must be positive.\")\n",
    "        self.balance += amount\n",
    "\n",
    "    def withdraw(self, amount):\n",
    "        if amount <= 0:\n",
    "            raise ValueError(\"Withdrawal amount must be positive.\")\n",
    "        if amount > self.balance:\n",
    "            raise ValueError(\"Insufficient funds.\")\n",
    "        self.balance -= amount\n",
    "\n",
    "# Creating an instance of BankAccount\n",
    "account = BankAccount(\"Alice\", 1000)\n",
    "\n",
    "# Accessing the balance attribute using the getter method\n",
    "print(account.balance)  # Output: 1000\n",
    "\n",
    "# Modifying the balance attribute using the setter method\n",
    "account.deposit(500)\n",
    "print(account.balance)  # Output: 1500\n",
    "\n",
    "# Trying to set an invalid balance value\n",
    "try:\n",
    "    account.balance = -200  # Raises ValueError: Balance cannot be negative.\n",
    "except ValueError as e:\n",
    "    print(e)\n",
    "\n",
    "# Deleting the balance attribute\n",
    "del account.balance  # Output: Deleting balance for Alice\n",
    "\n",
    "# Attempting to access the deleted attribute will raise an AttributeError\n",
    "try:\n",
    "    print(account.balance)  # Raises AttributeError: 'BankAccount' object has no attribute '_balance'\n",
    "except AttributeError as e:\n",
    "    print(e)\n"
   ]
  },
  {
   "cell_type": "code",
   "execution_count": null,
   "id": "d2243118-86d8-4b01-9da5-c1f169ffd35f",
   "metadata": {},
   "outputs": [],
   "source": []
  }
 ],
 "metadata": {
  "kernelspec": {
   "display_name": "Python 3 (ipykernel)",
   "language": "python",
   "name": "python3"
  },
  "language_info": {
   "codemirror_mode": {
    "name": "ipython",
    "version": 3
   },
   "file_extension": ".py",
   "mimetype": "text/x-python",
   "name": "python",
   "nbconvert_exporter": "python",
   "pygments_lexer": "ipython3",
   "version": "3.10.8"
  }
 },
 "nbformat": 4,
 "nbformat_minor": 5
}
